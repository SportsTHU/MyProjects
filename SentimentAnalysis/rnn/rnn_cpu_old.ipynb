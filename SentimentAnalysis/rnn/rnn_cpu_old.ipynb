{
 "cells": [
  {
   "cell_type": "code",
   "execution_count": 1,
   "metadata": {},
   "outputs": [],
   "source": [
    "import torch\n",
    "import torch.nn as nn\n",
    "import torch.nn.functional as F\n",
    "import numpy as np\n",
    "# from embed import Embedding"
   ]
  },
  {
   "cell_type": "code",
   "execution_count": 2,
   "metadata": {},
   "outputs": [],
   "source": [
    "# embed_file = 'sgns.sogou.word'\n",
    "\n",
    "EMBED_DIM = 300\n",
    "\n",
    "def is_valid(seg):\n",
    "    for w in seg:\n",
    "        if not ('\\u4e00' <= w and w <= '\\u9fff'):\n",
    "            return False\n",
    "    return True\n",
    "\n",
    "\n",
    "class Embed:\n",
    "    # def __init__(self, file_path='sgns.sogou.word'):\n",
    "    def __init__(self, file_path='../data/sgns.sogou.word'):\n",
    "        self.idx_seg = ['unk']\n",
    "        self.seg_idx = {'unk': 0}\n",
    "        self.idx_emb = [[0.0 for i in range(EMBED_DIM)]]\n",
    "        \n",
    "        with open(file_path, 'r') as f:\n",
    "            for idx, line in enumerate(f.readlines(), start=1):\n",
    "                emb = line.split()[1:]\n",
    "                seg = line.split()[0]\n",
    "                # print(emb, seg)\n",
    "                if is_valid(seg) and (seg not in self.seg_idx):\n",
    "                    self.idx_seg.append(seg)\n",
    "                    self.seg_idx[seg] = idx\n",
    "                    self.idx_emb.append([float(i) for i in emb])\n",
    "    def embed(self, seg):\n",
    "        if seg in self.seg_idx:\n",
    "            return self.seg_idx[seg]\n",
    "        else:\n",
    "            return self.seg_idx['unk']"
   ]
  },
  {
   "cell_type": "code",
   "execution_count": 3,
   "metadata": {},
   "outputs": [],
   "source": [
    "# s = Embed()\n",
    "\n",
    "# (s.seg_idx[','])\n",
    "# (s.seg_idx['的'])\n",
    "# s.embed('，')\n",
    "# s.embed('我国')"
   ]
  },
  {
   "cell_type": "code",
   "execution_count": null,
   "metadata": {},
   "outputs": [],
   "source": [
    "VOCAB_SIZE = 364182\n",
    "\n",
    "\n",
    "class SeqRNN(nn.Module):\n",
    "    '''\n",
    "    vocab_size:词向量维度\n",
    "    hidden_size:隐藏单元数量决定输出长度\n",
    "    output_size:输出类别为8，维数为1\n",
    "    '''\n",
    "\n",
    "    def __init__(self, vocab_size=300, hidden_size=10, output_size=8, pretrained_embed=Embed().idx_emb):\n",
    "        super(SeqRNN, self).__init__()\n",
    "        self.embed_dim = vocab_size\n",
    "        self.embed = nn.Embedding(VOCAB_SIZE, self.embed_dim)\n",
    "        self.vocab_size = vocab_size  # 这个为词向量的维数300\n",
    "        self.hidden_size = hidden_size  # 隐藏单元数\n",
    "        self.output_size = output_size  # 最后输出size\n",
    "\n",
    "        self.rnn = nn.RNN(self.vocab_size, self.hidden_size,\n",
    "                          batch_first=True, dropout=0.5)\n",
    "        self.linear = nn.Linear(self.hidden_size, self.output_size)\n",
    "\n",
    "    def forward(self, input):\n",
    "        input = self.embed(input)\n",
    "        # print(input)\n",
    "        # print('embeded size:', input.shape)\n",
    "        h0 = torch.zeros(1, 1, self.hidden_size)\n",
    "        # print('h0 size:', h0.shape)\n",
    "        output, hidden = self.rnn(input, h0)\n",
    "        output = output[:, -1, :]\n",
    "        output = self.linear(output)\n",
    "        output = torch.nn.functional.softmax(output, dim=1)\n",
    "        return output\n",
    "\n",
    "# rnn_model = SeqRNN()\n",
    "# cnn_model = TextCNN()"
   ]
  },
  {
   "cell_type": "code",
   "execution_count": 21,
   "metadata": {},
   "outputs": [],
   "source": [
    "import torch \n",
    "import torch.nn as nn\n",
    "from torch.nn import functional as F\n",
    "import numpy as np\n",
    "import json\n",
    "from torch.utils.data import Dataset, DataLoader\n",
    "from scipy.stats import pearsonr\n",
    "from sklearn.metrics import f1_score\n",
    "import random\n",
    "\n",
    "\n",
    "weightFile='./pkl/rnn_weight'\n",
    "train_file='../data/train_dic.json'\n",
    "test_file='../data/test_dic.json'\n",
    "\n",
    "\n",
    "with open(train_file,'r') as f:\n",
    "    train_dic = json.load(f)\n",
    "with open(test_file,'r') as f:\n",
    "    test_dic=json.load(f)\n",
    "\n",
    "\n",
    "EPOCH=20\n",
    "BATCH_SIZE=64\n",
    "lr=0.001\n",
    "max_len=len(train_dic['label'])\n",
    "\n",
    "class trainset(Dataset):\n",
    "    def __init__(self):\n",
    "        self.textdata=torch.LongTensor(train_dic['indexed_text'])\n",
    "        self.labeldata=torch.LongTensor(train_dic['emo'])\n",
    "\n",
    "    def __len__(self):\n",
    "        return len(self.textdata)\n",
    "\n",
    "    def __getitem__(self,index):\n",
    "        return self.textdata[index],self.labeldata[index]\n",
    "\n",
    "class validset(Dataset):\n",
    "    def __init__(self):\n",
    "        self.textdata=torch.LongTensor(test_dic['indexed_text'])\n",
    "        self.labeldata=torch.LongTensor(test_dic['emo'])\n",
    "\n",
    "    def __len__(self):\n",
    "        return len(self.textdata)\n",
    "\n",
    "    def __getitem__(self,index):\n",
    "        return self.textdata[index],self.labeldata[index]\n",
    "\n",
    "text = trainset()\n",
    "textloader = DataLoader(dataset=text,batch_size=BATCH_SIZE,shuffle=True)"
   ]
  },
  {
   "cell_type": "code",
   "execution_count": 24,
   "metadata": {},
   "outputs": [
    {
     "name": "stderr",
     "output_type": "stream",
     "text": [
      "100%|██████████| 2342/2342 [22:42<00:00,  1.72it/s] \n"
     ]
    },
    {
     "name": "stdout",
     "output_type": "stream",
     "text": [
      "Epoch: 0 aveloss: 1.9216297582924418\n"
     ]
    },
    {
     "name": "stderr",
     "output_type": "stream",
     "text": [
      "100%|██████████| 2342/2342 [14:58<00:00,  2.61it/s]\n"
     ]
    },
    {
     "name": "stdout",
     "output_type": "stream",
     "text": [
      "Epoch: 1 aveloss: 1.8602517210551555\n"
     ]
    }
   ],
   "source": [
    "from tqdm import tqdm\n",
    "model = SeqRNN()\n",
    "optimizer = torch.optim.Adam(model.parameters(), lr=lr)\n",
    "textloader = DataLoader(dataset=text,batch_size=1,shuffle=True)\n",
    "cnt = 0\n",
    "calloss = nn.CrossEntropyLoss()\n",
    "\n",
    "\n",
    "for epoch in range(2):\n",
    "    aveloss = 0\n",
    "    batchnum = 0\n",
    "    for text, label in tqdm(textloader):\n",
    "        batchnum += 1\n",
    "        optimizer.zero_grad()\n",
    "        out = model(text)\n",
    "        loss = calloss(out, label)\n",
    "        loss.backward()\n",
    "        aveloss += loss.item()\n",
    "        optimizer.step()\n",
    "    aveloss /= batchnum\n",
    "    print('Epoch:', epoch, 'aveloss:', aveloss)\n",
    "    torch.save(model.state_dict(), weightFile+str(epoch)+'.pkl')"
   ]
  },
  {
   "cell_type": "code",
   "execution_count": 1,
   "metadata": {},
   "outputs": [],
   "source": [
    "# FOR TEST\n",
    "\n",
    "test = validset()\n",
    "testloader = DataLoader(dataset=test, batch_size=1, shuffle=False)\n",
    "testmodel = SeqRNN()\n",
    "# opt=torch.optim.Adam(testmodel.parameters(),lr=LR)\n",
    "\n",
    "correct = 0\n",
    "total = 0\n",
    "epoch = 8\n",
    "coef = 0\n",
    "\n",
    "ground = list()\n",
    "pred = list()\n",
    "\n",
    "testmodel.load_state_dict(torch.load(weightFile+str(0)+'.pkl'))\n",
    "for text, label in tqdm(testloader):\n",
    "    testmodel.eval()\n",
    "    out = testmodel(text)\n",
    "    for ind in range(len(out)):\n",
    "        v0 = test_dic['label'][ind][1:]\n",
    "        ol = []\n",
    "        for i in range(len(out[ind])):\n",
    "            ol.append(float(out[ind][i]))\n",
    "        c = pearsonr(ol, v0)\n",
    "        coef += c[0]\n",
    "    prediction = torch.argmax(out, 1)\n",
    "    ground.append(label)\n",
    "    pred.append(prediction)\n",
    "    correct += (prediction == label).sum().float()\n",
    "    total += len(label)\n",
    "v = np.array(test_dic['emo'])\n",
    "print(correct)\n",
    "print(total)\n",
    "print('acc:', correct.item()/total)\n",
    "print(coef)\n",
    "print('Coef:', coef/total)\n",
    "\n",
    "# tensor(1217.)\n",
    "# 2228\n",
    "# acc: 0.546229802513465\n",
    "# 717.9179559345431\n",
    "# Coef: 0.3222252944050912\n",
    "# F-score: 0.18830698287220027\n",
    "# F-score: 0.29171621217657023\n",
    "# F-score: 0.24558080808080807\n",
    "# F-score: 0.1971957671957672\n",
    "# F-score: 0.13852813852813853\n",
    "# 0.2035984339260584"
   ]
  },
  {
   "cell_type": "code",
   "execution_count": 48,
   "metadata": {},
   "outputs": [
    {
     "name": "stdout",
     "output_type": "stream",
     "text": [
      "acc: 0.45601436265709155\n"
     ]
    }
   ],
   "source": [
    "tot = 0\n",
    "cnt = 0\n",
    "\n",
    "pred_l = list()\n",
    "true_l = list()\n",
    "\n",
    "for i, j in zip(ground, pred):\n",
    "    pred_l.append(i.item())\n",
    "    true_l.append(j.item())\n",
    "    tot += f1_score(i.data,j.data,average='macro')\n",
    "    cnt += 1\n",
    "print('acc:', tot / cnt)\n",
    "\n",
    "# epoch 1\n",
    "# acc: 0.46005385996409337\n",
    "\n",
    "# epoch 0\n",
    "# acc: 0.45601436265709155"
   ]
  },
  {
   "cell_type": "code",
   "execution_count": 49,
   "metadata": {},
   "outputs": [
    {
     "name": "stdout",
     "output_type": "stream",
     "text": [
      "micro f1: 0.45601436265709155\n",
      "macro f1: 0.09096386015493027\n",
      "pearson: (0.03383621855677044, 0.11033532616353672)\n"
     ]
    }
   ],
   "source": [
    "print('micro f1:', f1_score(pred_l,true_l,average='micro'))\n",
    "print('macro f1:', f1_score(pred_l,true_l,average='macro'))\n",
    "print('pearson:', pearsonr(pred_l, true_l))\n",
    "\n",
    "# epoch 1\n",
    "# micro f1: 0.46005385996409337\n",
    "# macro f1: 0.09927234898735894\n",
    "# pearson: (0.04629288575370093, 0.028885338186686736)"
   ]
  },
  {
   "cell_type": "code",
   "execution_count": null,
   "metadata": {},
   "outputs": [],
   "source": [
    "for i, j in zip(ground, pred):\n",
    "    print('F-score:',f1_score(i.data,j.data,average='micro'))\n",
    "    tot += f1_score(i.data,j.data,average='micro')\n",
    "    cnt += 1\n",
    "print(tot / cnt)"
   ]
  },
  {
   "cell_type": "code",
   "execution_count": null,
   "metadata": {},
   "outputs": [],
   "source": [
    "for i, j in zip(ground, pred):\n",
    "    print('F-score:',f1_score(i.data,j.data,average='macro'))\n",
    "    tot += f1_score(i.data,j.data,average='macro')\n",
    "    cnt += 1\n",
    "print(tot / cnt)"
   ]
  }
 ],
 "metadata": {
  "kernelspec": {
   "display_name": "Python 3",
   "language": "python",
   "name": "python3"
  },
  "language_info": {
   "codemirror_mode": {
    "name": "ipython",
    "version": 3
   },
   "file_extension": ".py",
   "mimetype": "text/x-python",
   "name": "python",
   "nbconvert_exporter": "python",
   "pygments_lexer": "ipython3",
   "version": "3.7.4"
  },
  "toc": {
   "base_numbering": 1,
   "nav_menu": {},
   "number_sections": true,
   "sideBar": true,
   "skip_h1_title": false,
   "title_cell": "Table of Contents",
   "title_sidebar": "Contents",
   "toc_cell": false,
   "toc_position": {},
   "toc_section_display": true,
   "toc_window_display": false
  }
 },
 "nbformat": 4,
 "nbformat_minor": 4
}
