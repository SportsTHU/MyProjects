{
 "cells": [
  {
   "cell_type": "markdown",
   "metadata": {},
   "source": [
    "## 0. Basic knowledge of feature engineering"
   ]
  },
  {
   "cell_type": "code",
   "execution_count": 1,
   "metadata": {
    "pycharm": {
     "is_executing": false
    }
   },
   "outputs": [],
   "source": [
    "## Question 1: A good feature should be discriminative and representative."
   ]
  },
  {
   "cell_type": "code",
   "execution_count": 2,
   "metadata": {
    "pycharm": {
     "is_executing": false
    }
   },
   "outputs": [],
   "source": [
    "## Question 2: Why is image feature extraction hard? \n",
    "\n",
    "# Ans: Individual pixel color values are NOT an adequate feature to determine correspondences\n",
    "#     Because pixels are not characteristic of an image (for example, a dog's image can have red pixels, \n",
    "#     while a horse's can also have red pixels)\n",
    "#     So we need to consider 'blocks of pixels', for example, taking the\n",
    "#     surroounding pixels into consideration.\n",
    "#     Only in  this way, can we reduce the effect of rotation, flipping, \n",
    "#     deformation, and ect."
   ]
  },
  {
   "cell_type": "code",
   "execution_count": 3,
   "metadata": {
    "pycharm": {
     "is_executing": false
    }
   },
   "outputs": [],
   "source": [
    "## Question 3: As we have learned in class, both 'Maximum entropy' and 'Smallest margin' can be used to\n",
    "##             measure uncertainty in active learning. Please explain which one is better for active learning and why?\n",
    "##             Note that: this is an open question and you can answer in Chinese as well.\n",
    "\n",
    "## My answer:\n",
    "\n",
    "# In my opinion, the 'Maximum ewntropy' is better.\n",
    "# We can approach this problem from 2 aspects:\n",
    "#     on the one hand, 'maximun entropy' is more comprehensive, it take the data of all samples into consideration\n",
    "#     on the other hand, active learning is improve model's performance with lables as few as possible \n",
    "#     So sonsidering these 2 factors, I think maximum entropy is better because it can reflect the data set comprehensively, and this can better\n",
    "#     select the ambiguous instances, then presenting them for extra labeling"
   ]
  },
  {
   "cell_type": "markdown",
   "metadata": {},
   "source": [
    "## 1. Text feature engineering"
   ]
  },
  {
   "cell_type": "code",
   "execution_count": 4,
   "metadata": {
    "pycharm": {
     "is_executing": false
    }
   },
   "outputs": [],
   "source": [
    "## Given a corpus as:\n",
    "corpus = ['The goal of this lecture is to explain text processing.',\n",
    "          'The bag of words model is one such approach.',\n",
    "          'Text processing via bag of words.',\n",
    "          'Data science includes text processing']"
   ]
  },
  {
   "cell_type": "code",
   "execution_count": 5,
   "metadata": {
    "pycharm": {
     "is_executing": false
    }
   },
   "outputs": [
    {
     "name": "stdout",
     "output_type": "stream",
     "text": [
      "  (0, 15)\t1\n",
      "  (0, 4)\t1\n",
      "  (0, 9)\t1\n",
      "  (0, 16)\t1\n",
      "  (0, 7)\t1\n",
      "  (0, 6)\t1\n",
      "  (0, 17)\t1\n",
      "  (0, 3)\t1\n",
      "  (0, 14)\t1\n",
      "  (0, 11)\t1\n",
      "  (1, 15)\t1\n",
      "  (1, 9)\t1\n",
      "  (1, 6)\t1\n",
      "  (1, 1)\t1\n",
      "  (1, 19)\t1\n",
      "  (1, 8)\t1\n",
      "  (1, 10)\t1\n",
      "  (1, 13)\t1\n",
      "  (1, 0)\t1\n",
      "  (2, 9)\t1\n",
      "  (2, 14)\t1\n",
      "  (2, 11)\t1\n",
      "  (2, 1)\t1\n",
      "  (2, 19)\t1\n",
      "  (2, 18)\t1\n",
      "  (3, 14)\t1\n",
      "  (3, 11)\t1\n",
      "  (3, 2)\t1\n",
      "  (3, 12)\t1\n",
      "  (3, 5)\t1\n"
     ]
    }
   ],
   "source": [
    "# !pip3 install sklearn\n",
    "## Question 4: Use BOW to extract features of the given corpus. \n",
    "## \n",
    "## Your code here\n",
    "## \n",
    "from sklearn.feature_extraction.text import CountVectorizer\n",
    "vectorizer = CountVectorizer()\n",
    "X = vectorizer.fit_transform(corpus)\n",
    "print(X)"
   ]
  },
  {
   "cell_type": "code",
   "execution_count": 6,
   "metadata": {
    "pycharm": {
     "is_executing": false
    }
   },
   "outputs": [
    {
     "name": "stdout",
     "output_type": "stream",
     "text": [
      "  (0, 11)\t0.23360869991447142\n",
      "  (0, 14)\t0.23360869991447142\n",
      "  (0, 3)\t0.3659931706709981\n",
      "  (0, 17)\t0.3659931706709981\n",
      "  (0, 6)\t0.2885532196006135\n",
      "  (0, 7)\t0.3659931706709981\n",
      "  (0, 16)\t0.3659931706709981\n",
      "  (0, 9)\t0.23360869991447142\n",
      "  (0, 4)\t0.3659931706709981\n",
      "  (0, 15)\t0.2885532196006135\n",
      "  (1, 0)\t0.38086516913285073\n",
      "  (1, 13)\t0.38086516913285073\n",
      "  (1, 10)\t0.38086516913285073\n",
      "  (1, 8)\t0.38086516913285073\n",
      "  (1, 19)\t0.30027847400958324\n",
      "  (1, 1)\t0.30027847400958324\n",
      "  (1, 6)\t0.30027847400958324\n",
      "  (1, 9)\t0.24310130388692774\n",
      "  (1, 15)\t0.30027847400958324\n",
      "  (2, 18)\t0.5371830325370646\n",
      "  (2, 19)\t0.4235212730041086\n",
      "  (2, 1)\t0.4235212730041086\n",
      "  (2, 11)\t0.3428769712206024\n",
      "  (2, 14)\t0.3428769712206024\n",
      "  (2, 9)\t0.3428769712206024\n",
      "  (3, 5)\t0.5119917161748856\n",
      "  (3, 12)\t0.5119917161748856\n",
      "  (3, 2)\t0.5119917161748856\n",
      "  (3, 11)\t0.3267976803045626\n",
      "  (3, 14)\t0.3267976803045626\n"
     ]
    }
   ],
   "source": [
    "## Question 5: Use TFIDF to extract features of the given corpus. \n",
    "## \n",
    "## Your code here\n",
    "## \n",
    "from sklearn.feature_extraction.text import TfidfVectorizer\n",
    "vectorizer = TfidfVectorizer()\n",
    "Y = vectorizer.fit_transform(corpus)\n",
    "print(Y)"
   ]
  },
  {
   "cell_type": "code",
   "execution_count": 7,
   "metadata": {
    "pycharm": {
     "is_executing": false
    }
   },
   "outputs": [
    {
     "data": {
      "text/plain": [
       "array([[ 0.04576098,  0.04882504,  0.00825521, -0.00122285, -0.00679342,\n",
       "         0.00365627,  0.00475215, -0.03505001, -0.004961  ,  0.01315367]],\n",
       "      dtype=float32)"
      ]
     },
     "execution_count": 7,
     "metadata": {},
     "output_type": "execute_result"
    }
   ],
   "source": [
    "## Question 6: Use Word2Vec to extract features of the given corpus. \n",
    "# !pip3 install gensim\n",
    "from gensim.test.utils import common_texts\n",
    "from gensim.sklearn_api import W2VTransformer\n",
    "# Create a model to represent each word by a 10 dimensional vector\n",
    "model = W2VTransformer(size=10, min_count=1, seed=1)\n",
    "## The model trained on the common_texts\n",
    "# What is the vector representation of the word ‘graph’? \n",
    "common_texts\n",
    "wordvecs = model.fit(common_texts).transform(['graph']) \n",
    "wordvecs\n",
    "## \n",
    "## You should extract the vector representation of the word 'text' by the model trained on the given corpus.\n",
    "## Note that: the formulation of the given corpus is different from that of common_texts, \n",
    "## you should transform the given corpus to the the formulation of common_texts first.\n",
    "## \n",
    "## Your code here\n",
    "## In next cell\n"
   ]
  },
  {
   "cell_type": "code",
   "execution_count": 8,
   "metadata": {
    "pycharm": {
     "is_executing": false
    }
   },
   "outputs": [
    {
     "name": "stdout",
     "output_type": "stream",
     "text": [
      "[[ 0.0494656   0.03413517  0.00032518 -0.00489395 -0.02507001 -0.00917046\n",
      "  -0.03160857  0.03087081  0.01838998  0.02286113]]\n"
     ]
    }
   ],
   "source": [
    "## \n",
    "## Your code here\n",
    "## \n",
    "words_list = []\n",
    "for sentence in corpus:\n",
    "    words_list.append(sentence.split())\n",
    "# print(words_list)\n",
    "model = W2VTransformer(size=10, min_count=1, seed=1)\n",
    "wordvecs_common_text = model.fit(words_list).transform(['text']) \n",
    "print(wordvecs_common_text)"
   ]
  },
  {
   "cell_type": "markdown",
   "metadata": {},
   "source": [
    "## 2. Time series feature engineering"
   ]
  },
  {
   "cell_type": "code",
   "execution_count": 9,
   "metadata": {
    "pycharm": {
     "is_executing": false
    }
   },
   "outputs": [],
   "source": [
    "## Question 7: Use decompose (model='additive') to extract time series features of the given time series\n",
    "from random import randrange\n",
    "import math\n",
    "from pandas import Series\n",
    "series = Series([20*math.sin(i/18*math.pi) + i + randrange(10) for i in range(1,360)])\n"
   ]
  },
  {
   "cell_type": "code",
   "execution_count": 10,
   "metadata": {
    "pycharm": {
     "is_executing": false
    }
   },
   "outputs": [
    {
     "data": {
      "text/plain": [
       "<Figure size 640x480 with 4 Axes>"
      ]
     },
     "execution_count": 10,
     "metadata": {},
     "output_type": "execute_result"
    }
   ],
   "source": [
    "from matplotlib import pyplot\n",
    "from statsmodels.tsa.seasonal import seasonal_decompose\n",
    "## \n",
    "## Your code here\n",
    "## \n",
    "# ?seasonal_decompose\n",
    "# print(series)\n",
    "result = seasonal_decompose(series, model='multiplicative', freq=36)\n",
    "result.plot()\n"
   ]
  },
  {
   "cell_type": "code",
   "execution_count": 11,
   "metadata": {
    "pycharm": {
     "is_executing": false
    }
   },
   "outputs": [
    {
     "data": {
      "image/png": "[encoded data removed]",
      "text/plain": [
       "<Figure size 432x288 with 1 Axes>"
      ]
     },
     "metadata": {
      "needs_background": "light"
     },
     "output_type": "display_data"
    }
   ],
   "source": [
    "## Question 8: Use Discrete Fourier Transform (DFT) to extract time series features of the given time series\n",
    "import matplotlib.pyplot as plt\n",
    "import numpy as np\n",
    "series = Series([np.cos(2*math.pi*1/8*n+math.pi/8) for n in range(800)])\n",
    "## \n",
    "## Your code here\n",
    "## \n",
    "sp = np.fft.fft(series)\n",
    "freq = np.fft.fftfreq(series.shape[-1])\n",
    "plt.plot(freq, sp.real, freq, sp.imag)\n",
    "plt.show()"
   ]
  },
  {
   "cell_type": "markdown",
   "metadata": {},
   "source": [
    "## 3. Image feature engineering"
   ]
  },
  {
   "cell_type": "code",
   "execution_count": 12,
   "metadata": {
    "pycharm": {
     "is_executing": false
    }
   },
   "outputs": [
    {
     "name": "stdout",
     "output_type": "stream",
     "text": [
      "The shape of the image:  (485, 729)\n",
      "The shape of feature description:  (418, 128)\n"
     ]
    }
   ],
   "source": [
    "## Use SIFT in opencv-python to extract image features on the given image 'morning.jpg'\n",
    "# !pip install opencv-python==3.4.2.16\n",
    "# !pip install opencv-contrib-python==3.4.2.16\n",
    "## Note that: NOT all versions of opencv-contrib-python includes SIFT in cv2.xfeatures2d, \n",
    "## but this specified version does\n",
    "import cv2\n",
    "import numpy as np\n",
    "name = 'dog.jpg'\n",
    "img = cv2.imread(name)\n",
    "gray_img= cv2.cvtColor(img,cv2.COLOR_BGR2GRAY)\n",
    "print(\"The shape of the image: \", gray_img.shape)\n",
    "siftDetector= cv2.xfeatures2d.SIFT_create()\n",
    "## Note that: SIFT was re-organized in opencv thus you should import it like this.\n",
    "\n",
    "## finds the keypoint in the images\n",
    "kp = siftDetector.detect(gray_img,None)\n",
    "## draws the small circles on the locations of keypoints\n",
    "cv2.drawKeypoints(gray_img,kp,img,flags=cv2.DRAW_MATCHES_FLAGS_DRAW_RICH_KEYPOINTS)\n",
    "cv2.imwrite('sift_keypoint_example' + name, img) ## Save Example\n",
    "## directly find keypoints and descriptors in a single step \n",
    "kp, des = siftDetector.detectAndCompute(gray_img,None)\n",
    "print(\"The shape of feature description: \", des.shape)"
   ]
  },
  {
   "cell_type": "code",
   "execution_count": 13,
   "metadata": {
    "pycharm": {
     "is_executing": false
    }
   },
   "outputs": [
    {
     "name": "stdout",
     "output_type": "stream",
     "text": [
      "Rescaling Done!\n"
     ]
    }
   ],
   "source": [
    "## Question 9: Please rescale the given image 'dog.jpg' at a random ratio between 0.3 with 1.5.\n",
    "##          Note that: the width and height of the given image should be rescaled at a different ratio.\n",
    "##          Repeat this operation five times, then you will get five new images with different scale.\n",
    "##\n",
    "##          Please extract the SIFT features of these images respectively and use 'imwrite' to save them.\n",
    "##          An example of saving keypoints on the input image is shown as follow:\n",
    "##          cv2.drawKeypoints(gray_img,kp,img,flags=cv2.DRAW_MATCHES_FLAGS_DRAW_RICH_KEYPOINTS)\n",
    "##          cv2.imwrite('sift_keypoint_' + name, img)\n",
    "##\n",
    "## \n",
    "## Your code here\n",
    "## \n",
    "import cv2\n",
    "import numpy as np\n",
    "import random\n",
    "name = 'dog.jpg'\n",
    "\n",
    "def rescale():\n",
    "    for i in range(6):\n",
    "        img = cv2.imread(name)\n",
    "        rescaled_img = cv2.resize(img, (0,0), fx=random.uniform(0.3, 1.5), fy=random.uniform(0.3, 1.5))\n",
    "        gray = cv2.cvtColor(rescaled_img,cv2.COLOR_BGR2GRAY)\n",
    "        siftDetector= cv2.xfeatures2d.SIFT_create()\n",
    "        kp = siftDetector.detect(gray, None)\n",
    "        cv2.drawKeypoints(gray, kp, rescaled_img, flags=cv2.DRAW_MATCHES_FLAGS_DRAW_RICH_KEYPOINTS)\n",
    "        cv2.imwrite(str(i) + name, rescaled_img) ## Save Example\n",
    "#         kp, des = siftDetector.detectAndCompute(gray,None)\n",
    "#         print(\"The shape of feature description: \", des.shape)\n",
    "    return\n",
    "\n",
    "rescale()\n",
    "print(\"Rescaling Done!\")\n",
    "\n",
    "\n",
    "#         feat_img = rescaled_img\n",
    "#         siftDetector= cv2.xfeatures2d.SIFT_create()\n",
    "#         kp = siftDetector.detect(rescaled_img, None)\n",
    "#         cv2.drawKeypoints(rescaled_img, kp, feat_img, flags=cv2.DRAW_MATCHES_FLAGS_DRAW_RICH_KEYPOINTS)\n",
    "#         cv2.imwrite('feat_rescaled' + str(i) + name, feat_img)\n",
    "\n",
    "# siftDetector= cv2.xfeatures2d.SIFT_create()\n",
    "# ## Note that: SIFT was re-organized in opencv thus you should import it like this.\n",
    "\n",
    "# ## finds the keypoint in the images\n",
    "# kp = siftDetector.detect(rotated_dog,None)\n",
    "# ## draws the small circles on the locations of keypoints\n",
    "# cv2.drawKeypoints(rotated_dog,kp,img,flags=cv2.DRAW_MATCHES_FLAGS_DRAW_RICH_KEYPOINTS)\n",
    "# cv2.imwrite('rotated_feature' + name, img) ## Save Example\n"
   ]
  },
  {
   "cell_type": "code",
   "execution_count": 14,
   "metadata": {
    "pycharm": {
     "is_executing": false
    }
   },
   "outputs": [],
   "source": [
    "## Question 10: Please rotate the given image 'dog.jpg' 30, 60, 90, 120, 150, 180 degrees clockwise,\n",
    "##              then you will get six new images with different rotation angle.\n",
    "##              Please extract the SIFT features of these images respectively and use 'imwrite' to save them.\n",
    "##              An example of saving keypoints on the input image is shown as follow:\n",
    "##              cv2.drawKeypoints(gray_img,kp,img,flags=cv2.DRAW_MATCHES_FLAGS_DRAW_RICH_KEYPOINTS)\n",
    "##              cv2.imwrite('sift_keypoint_' + name, img)"
   ]
  },
  {
   "cell_type": "code",
   "execution_count": 15,
   "metadata": {
    "pycharm": {
     "is_executing": false
    }
   },
   "outputs": [],
   "source": [
    "# import cv2\n",
    "# cv2.warpAffine(image, M, (w, h))\n",
    "# # \n",
    "\n",
    "# siftDetector= cv2.xfeatures2d.SIFT_create()\n",
    "# ## Note that: SIFT was re-organized in opencv thus you should import it like this.\n",
    "\n",
    "# ## finds the keypoint in the images\n",
    "# kp = siftDetector.detect(rotated_dog,None)\n",
    "# ## draws the small circles on the locations of keypoints\n",
    "# cv2.drawKeypoints(rotated_dog,kp,img,flags=cv2.DRAW_MATCHES_FLAGS_DRAW_RICH_KEYPOINTS)\n",
    "# cv2.imwrite('rotated_feature' + name, img) ## Save Example"
   ]
  },
  {
   "cell_type": "code",
   "execution_count": 16,
   "metadata": {},
   "outputs": [
    {
     "name": "stdout",
     "output_type": "stream",
     "text": [
      "Rescaling Done!\n"
     ]
    }
   ],
   "source": [
    "## \n",
    "import cv2\n",
    "import numpy as np\n",
    "import random\n",
    "name = 'dog.jpg'\n",
    "def rotate(image, angle, center=None, scale=1.0):\n",
    "    # Get the size\n",
    "    (h, w) = image.shape[:2]\n",
    "    # set the rotation center at the center of the image\n",
    "    if center is None:\n",
    "        center = (w / 2, h / 2)\n",
    "    # carry out \n",
    "    M = cv2.getRotationMatrix2D(center, angle, scale)\n",
    "    rotated = cv2.warpAffine(image, M, (w, h))\n",
    " \n",
    "    # return the rotated fig\n",
    "    return rotated\n",
    "\n",
    "degrees = [30, 60, 90, 120, 150, 180]\n",
    "def rescale():\n",
    "    for deg in degrees:\n",
    "        img = cv2.imread(name)\n",
    "        rescaled_img = rotate(img, deg)\n",
    "        gray = cv2.cvtColor(rescaled_img,cv2.COLOR_BGR2GRAY)\n",
    "        siftDetector= cv2.xfeatures2d.SIFT_create()\n",
    "        kp = siftDetector.detect(gray, None)\n",
    "        cv2.drawKeypoints(gray, kp, rescaled_img, flags=cv2.DRAW_MATCHES_FLAGS_DRAW_RICH_KEYPOINTS)\n",
    "        cv2.imwrite(str(deg) + \"rot\" + name, rescaled_img) ## Save Example\n",
    "        kp, des = siftDetector.detectAndCompute(img,None)\n",
    "    return\n",
    "\n",
    "rescale()\n",
    "print(\"Rescaling Done!\")\n"
   ]
  },
  {
   "cell_type": "code",
   "execution_count": null,
   "metadata": {},
   "outputs": [],
   "source": []
  }
 ],
 "metadata": {
  "kernelspec": {
   "display_name": "Python 3",
   "language": "python",
   "name": "python3"
  },
  "language_info": {
   "codemirror_mode": {
    "name": "ipython",
    "version": 3
   },
   "file_extension": ".py",
   "mimetype": "text/x-python",
   "name": "python",
   "nbconvert_exporter": "python",
   "pygments_lexer": "ipython3",
   "version": "3.7.4"
  },
  "pycharm": {
   "stem_cell": {
    "cell_type": "raw",
    "metadata": {
     "collapsed": false
    },
    "source": []
   }
  }
 },
 "nbformat": 4,
 "nbformat_minor": 2
}
